{
 "cells": [
  {
   "cell_type": "markdown",
   "id": "fbd654a9-bdec-4666-a983-07925eb50598",
   "metadata": {},
   "source": [
    "# Downloader de datos\n",
    "\n",
    "Script el cual comprime todos los datos de jupyter para poderlos descargar en ZIP \n",
    "\n",
    "Solucion al problema de no poder exportar los datos de Jupyter de Unizar"
   ]
  },
  {
   "cell_type": "code",
   "execution_count": 4,
   "id": "6a0248ea-49f1-43be-950d-f5ced101c07a",
   "metadata": {},
   "outputs": [
    {
     "name": "stdout",
     "output_type": "stream",
     "text": [
      "Todas las carpetas y archivos han sido comprimidos en jupyter-export-2024-03-18-20-50-20.zip\n"
     ]
    }
   ],
   "source": [
    "import os\n",
    "import zipfile\n",
    "import datetime\n",
    "\n",
    "def zip_folders():\n",
    "    # Obtiene el directorio actual\n",
    "    current_dir = os.getcwd()\n",
    "    # Carpeta para ignorar\n",
    "    ignore_folder = \"exports\"\n",
    "\n",
    "    # Lista de carpetas y archivos en el directorio actual, ignorando las carpetas ocultas y la carpeta de exportación\n",
    "    folders = [folder for folder in os.listdir(current_dir) \n",
    "               if os.path.isdir(os.path.join(current_dir, folder)) \n",
    "               and not folder.startswith('.') \n",
    "               and folder != ignore_folder]\n",
    "    \n",
    "    # Crear carpeta 'exports' si no existe\n",
    "    export_folder = os.path.join(current_dir, \"exports\")\n",
    "    os.makedirs(export_folder, exist_ok=True)\n",
    "    \n",
    "    # Nombre para el archivo ZIP\n",
    "    current_time = datetime.datetime.now().strftime(\"%Y-%m-%d-%H-%M-%S\")  #Almacenamos segun fecha\n",
    "    zip_filename = f\"jupyter-export-{current_time}.zip\"\n",
    "    \n",
    "    # Ruta completa para el archivo ZIP\n",
    "    zip_filepath = os.path.join(export_folder, zip_filename)\n",
    "    \n",
    "    # Crear un nuevo archivo ZIP\n",
    "    with zipfile.ZipFile(zip_filepath, 'w', zipfile.ZIP_DEFLATED) as zipf:\n",
    "        # Iterar sobre cada carpeta y agregarla al archivo ZIP\n",
    "        for folder in folders:\n",
    "            folder_path = os.path.join(current_dir, folder)\n",
    "            # Agregar la carpeta y sus archivos al archivo ZIP\n",
    "            for root, dirs, files in os.walk(folder_path):\n",
    "                for file in files:\n",
    "                    file_path = os.path.join(root, file)\n",
    "                    zipf.write(file_path, os.path.relpath(file_path, current_dir))\n",
    "\n",
    "    print(f\"Todas las carpetas y archivos han sido comprimidos en {zip_filename}\")\n",
    "\n",
    "if __name__ == \"__main__\":\n",
    "    zip_folders()\n"
   ]
  }
 ],
 "metadata": {
  "kernelspec": {
   "display_name": "Python 3 (ipykernel)",
   "language": "python",
   "name": "python3"
  },
  "language_info": {
   "codemirror_mode": {
    "name": "ipython",
    "version": 3
   },
   "file_extension": ".py",
   "mimetype": "text/x-python",
   "name": "python",
   "nbconvert_exporter": "python",
   "pygments_lexer": "ipython3",
   "version": "3.9.2"
  }
 },
 "nbformat": 4,
 "nbformat_minor": 5
}
